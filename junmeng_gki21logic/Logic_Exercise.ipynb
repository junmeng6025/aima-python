{
 "cells": [
  {
   "cell_type": "markdown",
   "metadata": {},
   "source": [
    " # 8-Queens-Problem++"
   ]
  },
  {
   "cell_type": "markdown",
   "metadata": {},
   "source": [
    "# Initialization"
   ]
  },
  {
   "cell_type": "code",
   "execution_count": 1,
   "metadata": {},
   "outputs": [],
   "source": [
    "# Leave the lines in this block intact\n",
    "%load_ext autoreload\n",
    "%autoreload 2"
   ]
  },
  {
   "cell_type": "code",
   "execution_count": 2,
   "metadata": {},
   "outputs": [
    {
     "ename": "ModuleNotFoundError",
     "evalue": "No module named 'utils'",
     "output_type": "error",
     "traceback": [
      "\u001b[0;31m---------------------------------------------------------------------------\u001b[0m",
      "\u001b[0;31mModuleNotFoundError\u001b[0m                       Traceback (most recent call last)",
      "\u001b[0;32m<ipython-input-2-2ba0c1ff71a6>\u001b[0m in \u001b[0;36m<module>\u001b[0;34m\u001b[0m\n\u001b[1;32m      8\u001b[0m \u001b[0;32mimport\u001b[0m \u001b[0mnumpy\u001b[0m \u001b[0;32mas\u001b[0m \u001b[0mnp\u001b[0m\u001b[0;34m\u001b[0m\u001b[0;34m\u001b[0m\u001b[0m\n\u001b[1;32m      9\u001b[0m \u001b[0;34m\u001b[0m\u001b[0m\n\u001b[0;32m---> 10\u001b[0;31m \u001b[0;32mfrom\u001b[0m \u001b[0mutils\u001b[0m \u001b[0;32mimport\u001b[0m \u001b[0mexpr\u001b[0m\u001b[0;34m\u001b[0m\u001b[0;34m\u001b[0m\u001b[0m\n\u001b[0m\u001b[1;32m     11\u001b[0m \u001b[0;32mfrom\u001b[0m \u001b[0mkb\u001b[0m \u001b[0;32mimport\u001b[0m \u001b[0mDpllPropKB\u001b[0m\u001b[0;34m\u001b[0m\u001b[0;34m\u001b[0m\u001b[0m\n\u001b[1;32m     12\u001b[0m \u001b[0;34m\u001b[0m\u001b[0m\n",
      "\u001b[0;31mModuleNotFoundError\u001b[0m: No module named 'utils'"
     ]
    }
   ],
   "source": [
    "import sys, os\n",
    "\n",
    "# Importing AIMA tools\n",
    "# If you have not copied the contents of the template directly into the AIMA folder, you can uncomment the next line.\n",
    "#sys.path.append(os.path.realpath(\"../aima-python\")) # Modify the ./aima to the relative path of your aima folder.\n",
    "\n",
    "# Do not change the rest of this block\n",
    "import numpy as np\n",
    "\n",
    "from utils import expr\n",
    "from kb import DpllPropKB\n",
    "\n",
    "import chessboards as maps\n",
    "from ask_solution import ask_solution\n",
    "from vis_utils import draw_chessboard, draw_tuples\n",
    "from field_var import field_var, Queen, Pawn, Danger\n",
    "\n",
    "KB = globals()[\"DpllPropKB\"]"
   ]
  },
  {
   "cell_type": "markdown",
   "metadata": {},
   "source": [
    "# Problem Description\n",
    "In the [classical 8 queens problem](https://en.wikipedia.org/wiki/Eight_queens_puzzle), the goal is to place 8 queens on a 8x8 chessboard such that they can not strike each other. A queen can strike another queen, if they are both in the same row, column, or diagonal.\n",
    "\n",
    "This exercise is based on this problem, but with several important modifications:\n",
    "- The size of the board is **not necessarily 8x8, but can be 5x5, 6x6,...**\n",
    "- We do **not focus our attention on finding the (theoretical) maximum number of queens** that can be placed on a board. This means, for example, that solutions with 7 queens on an empty 8x8 chessboard will also be considered as valid solutions, as long as no additional queen can be placed.\n",
    "- In addition to the queens, there may also be pawns on the chessboard. **Pawns can 'block' the influence of a queen**, see below for more details.\n",
    "\n",
    "You will be given several initial chessboards, with a few queens and pawns. Your task will be to fill the chessboard with new queens, until no new queen can be placed.\n",
    "\n",
    "In order to produce such an algorithm, you should construct a knowledge base, with which one can infer which fields on the board cannot be occupied by a new queen. **Such fields will be called danger fields**.\n",
    "\n",
    "The location of the next queen will always be chosen as follows:\n",
    "\n",
    "_In the first row (starting from the top) where there is an empty field, choose the first column (starting from the left) that is empty; place the next Queen there._\n",
    "\n",
    "You do **not** need to implement that part of the algorithm. Your task is only to set up a knowledge base that determines which fields are in danger.\n",
    "\n",
    "## Passing the exercise\n",
    "You will have passed the exercise if you can successfully solve all 8 scenarios that are given to you together with this template. Additionally, your code also has to solve 5 hidden scenarios, that are only available on Artemis.\n",
    "\n",
    "If your implemented function computes the knowledge base such that every scenario is solved correctly (including the hidden ones), you successfully completed this programming exercise.\n",
    "\n",
    "Your code has to compute a valid solution for each of the scenarios within 5 min on our machine. If your code takes longer to compute a solution, you will fail this submission. Don't worry about the computation time too much as usually the algorithm produces a solution within seconds for our specific exercise. Your submission will be evaluated after the deadline, but until then you can update your solution as many times as you like. The last submitted solution will be graded."
   ]
  },
  {
   "cell_type": "markdown",
   "metadata": {},
   "source": [
    "\n",
    "# Rules\n",
    "\n",
    "To visualize the position of the queens, pawns, and danger fields, an $n\\times n$ chessboard will be represented as a 2-dimensional numpy array ``chessboard[i][j]``. The $(i,j)$-th entry of this array corresponds to the $(i,j)$-th field on the chessboard, for $0\\leq i,j\\leq n-1$, where $(0,0)$ is in the upper left corner, $i$ indicates the column-number, while $j$ indicates the row-number. See also the image below, in the case of a 5x5 chessboard:"
   ]
  },
  {
   "cell_type": "code",
   "execution_count": null,
   "metadata": {},
   "outputs": [],
   "source": [
    "# You can change the chessboard size, if you want to see the field designations for larger chessboards\n",
    "draw_tuples(board_size=5)"
   ]
  },
  {
   "cell_type": "markdown",
   "metadata": {},
   "source": [
    "Each entry can have four different values:\n",
    "\n",
    "- 0, which means that the field is **empty**\n",
    "- 'Q', which means that the field has a **Queen**, which will be represented as <img style=\"vertical-align: -13px; display: inline;\" width=40px src=\"img_notebook/queen.png\">\n",
    "- 'P', which means that the field has a **Pawn**, which will be represented as <img style=\"vertical-align: -13px; display: inline;\" width=40px src=\"img_notebook/pawn.png\">\n",
    "- 'D', which means that the field is **in Danger**, which will be represented as <img style=\"vertical-align: -5px; display: inline;\" width=30px src=\"img_notebook/trueDanger.png\">"
   ]
  },
  {
   "cell_type": "markdown",
   "metadata": {},
   "source": [
    "## Queens\n",
    "Just like for regular chess, given an empty board with just one queen, any field that is in the same column, row, or diagonal as the queen is in danger. See also the example below:"
   ]
  },
  {
   "cell_type": "markdown",
   "metadata": {},
   "source": [
    "\n",
    "\n",
    "<div>\n",
    "<img src=\"img_notebook/queen_example.png\" width=\"400\"/>\n",
    "</div>\n",
    "\n",
    "\n"
   ]
  },
  {
   "cell_type": "markdown",
   "metadata": {},
   "source": [
    "## Pawns\n",
    "Pawns are able to block the danger influence of queens, meaning that all tiles 'behind' a pawn are not in danger. A more practical formulation would be that _**any field on the same column, row, or diagonal as a queen is in danger, unless there is a pawn in between**_. The chessboard below illustrates this rule:"
   ]
  },
  {
   "cell_type": "markdown",
   "metadata": {},
   "source": [
    "\n",
    "<div>\n",
    "<img src=\"img_notebook/pawn_example.png\" width=\"400\"/>\n",
    "</div>"
   ]
  },
  {
   "cell_type": "markdown",
   "metadata": {},
   "source": [
    "# Visualization"
   ]
  },
  {
   "cell_type": "markdown",
   "metadata": {},
   "source": [
    "In order to visualize the state of the chessboard, you can use one of the options demonstrated below:"
   ]
  },
  {
   "cell_type": "code",
   "execution_count": null,
   "metadata": {},
   "outputs": [],
   "source": [
    "# Set up a simple chessboard\n",
    "chessboard_example = np.zeros((5, 5), dtype = object)\n",
    "chessboard_example[4, 0] = 'Q'\n",
    "chessboard_example[1, 1] = 'Q'\n",
    "chessboard_example[0, 3] = 'P'"
   ]
  },
  {
   "cell_type": "code",
   "execution_count": null,
   "metadata": {},
   "outputs": [],
   "source": [
    "# You can print the entire array using the python print function:\n",
    "# (Carefull, you need to 'transpose' the array first if you use print)\n",
    "print('The chessboard array:\\n', chessboard_example.T)\n",
    "\n",
    "# A better way of printing the chessboard is given by this function:\n",
    "def pretty_print(chessboard_array):\n",
    "    for row in chessboard_array.T:\n",
    "        print(str([str(element) for element in row]))\n",
    "        \n",
    "print('Pretty print of the chessboard:')\n",
    "pretty_print(chessboard_example)\n",
    "\n",
    "# You can access the array elements with chessboard_example[x][y]\n",
    "print('The tile at position 1,1 is ', chessboard_example[1][1])\n",
    "print('The tile at position 0,3 is ', chessboard_example[0][3])"
   ]
  },
  {
   "cell_type": "code",
   "execution_count": null,
   "metadata": {
    "scrolled": true
   },
   "outputs": [],
   "source": [
    "# A graphical representation of the chessboard can be produced by using the function draw_chessboard()\n",
    "draw_chessboard(chessboard_example)"
   ]
  },
  {
   "cell_type": "markdown",
   "metadata": {},
   "source": [
    "# Knowledge Base generation"
   ]
  },
  {
   "cell_type": "markdown",
   "metadata": {},
   "source": [
    "## Atomic sentences"
   ]
  },
  {
   "cell_type": "markdown",
   "metadata": {},
   "source": [
    "Your task is to implement the knowledge base that inferes for each field whether it is in danger. To represent the state of a field, use one of the three predicates for the Queen, Pawn, and Danger fields, as shown below:"
   ]
  },
  {
   "cell_type": "code",
   "execution_count": null,
   "metadata": {
    "scrolled": true
   },
   "outputs": [],
   "source": [
    "# Formalization of the sentence 'There is a queen in field (1,2)':\n",
    "Queen(1, 2)"
   ]
  },
  {
   "cell_type": "code",
   "execution_count": null,
   "metadata": {},
   "outputs": [],
   "source": [
    "# Formalization of the sentence 'There is a pawn in field (2,0)':\n",
    "Pawn(2, 0)"
   ]
  },
  {
   "cell_type": "code",
   "execution_count": null,
   "metadata": {},
   "outputs": [],
   "source": [
    "# Formalization of the sentence 'Field (3,3) is in danger':\n",
    "Danger(3, 3)"
   ]
  },
  {
   "cell_type": "markdown",
   "metadata": {},
   "source": [
    "## Telling and asking the knowledge base"
   ]
  },
  {
   "cell_type": "markdown",
   "metadata": {},
   "source": [
    "With the atomic sentences introduced above, you should contruct correct logical sentences that can be used to infer the new danger fields.\n",
    "\n",
    "Below you will find examples detailling the notation you can use to construct such sentences, and how to add them to the knowledge base.\n",
    "\n",
    "_**Note:**_ The next logical sentences are only meant to illustrate the notation, and do not necessarily reflect real scenarios.\n"
   ]
  },
  {
   "cell_type": "code",
   "execution_count": null,
   "metadata": {},
   "outputs": [],
   "source": [
    "# Notation you can use:\n",
    "# &     Logical AND\n",
    "# |     Logical OR\n",
    "# ~     Negation\n",
    "# ==>   Implication\n",
    "# <==   Reverse Implication\n",
    "# <=>   Equivalence\n",
    "# (...) Parentheses\n",
    "\n",
    "# Example of a simple knowledge base construction\n",
    "# Create an empty knowledge base\n",
    "kb = KB()\n",
    "\n",
    "# Formalize the sentence 'There is a queen in the upper left corner':\n",
    "sentence = Queen(0,0)\n",
    "# Add this sentence to the KB \n",
    "kb.tell(expr(sentence))\n",
    "\n",
    "# Formalize the sentence\n",
    "#'There is no Queen in field (0,0) if and only if\n",
    "# field (1,2) is in Danger or field (0,1) has a Pawn'\n",
    "sentence = '~'+Queen(0,0)+'<=>'+'('+Danger(1,2)+'|'+Pawn(0,1)+')'\n",
    "# Add this sentence to the KB\n",
    "kb.tell(expr(sentence))\n",
    "\n",
    "# Formalize the sentence 'If there is Danger if field (1,2),\n",
    "# then there is a Pawn in field (0,1)'\n",
    "sentence = Danger(1,2)+'==>'+Pawn(0,1)\n",
    "kb.tell(expr(sentence))\n",
    "\n",
    "# We can now 'ask' the knowledge base whether field (1,2)\n",
    "# is *not* in danger:\n",
    "\n",
    "kb.ask(expr('~'+Danger(1,2)))"
   ]
  },
  {
   "cell_type": "markdown",
   "metadata": {},
   "source": [
    "### Important\n",
    "If something is undefined in your knowledge base, or if the inference fails, ``kb.ask`` will always return ``False``. Therefore, make sure that you define your knowledge base properly.\n",
    "\n",
    "The following example shows how an incorrectly defined knowledge base can lead to problems:"
   ]
  },
  {
   "cell_type": "code",
   "execution_count": null,
   "metadata": {},
   "outputs": [],
   "source": [
    "# Create a new, empty knowledge base:\n",
    "kb = KB()\n",
    "\n",
    "# Add the sentence 'If there is a Queen in field (0,0), then\n",
    "# the field (1,1) is in danger'\n",
    "sentence = Queen(0,0) + '==>' + Danger(1,1)\n",
    "kb.tell(expr(sentence))\n",
    "\n",
    "# If you do not add to the knowledge base the information\n",
    "# that there is a Queen in (0,0), both of the following \n",
    "# return False:\n",
    "print(kb.ask(expr(Danger(1,1))))\n",
    "print(kb.ask(expr('~'+Danger(1,1))))"
   ]
  },
  {
   "cell_type": "markdown",
   "metadata": {},
   "source": [
    "## Generating your knowledge base"
   ]
  },
  {
   "cell_type": "markdown",
   "metadata": {},
   "source": [
    "For this exercise, you will only be required to generate the sentences to be added to the knowledge base. Here is what it could look like:"
   ]
  },
  {
   "cell_type": "code",
   "execution_count": null,
   "metadata": {},
   "outputs": [],
   "source": [
    "def generate_knowledge_example(chessboard_array):\n",
    "    chessboard_size = len(chessboard_array)\n",
    "    kb = []\n",
    "    all_fields = [(x,y) for x in range(chessboard_size) for y in range(chessboard_size)]\n",
    "    \n",
    "    # Sets every field to danger:\n",
    "    for field in all_fields:\n",
    "        kb.append(Danger(field[0],field[1]))\n",
    "\n",
    "\n",
    "    return kb"
   ]
  },
  {
   "cell_type": "markdown",
   "metadata": {},
   "source": [
    "## Your Task\n",
    "\n",
    "Implement the function ``generate_knowledge`` in ``generate_knowledge.py``. This is the only file you need to modify, and is the only file you need to submit.\n",
    "\n",
    "The function ``generate_knowledge`` will only be called once at the start, before the main loop. It should setup the initial knowledge (i.e., where are the pawns, where are the initial queens, etc), as well as the rules governing the danger tiles.\n",
    "\n",
    "Then, in each iteration of the main loop, the field for the next queen will be chosen. To do so, the new danger fields will be infered using your knowledge base. Then, the new field for the queen will be determined using the rules mentioned above. Once the new queen has been placed, the corresponding sentence is added to the knowledge base automatically (e.g., if a queen has been added on field (1,3), then 'Q13' will be added to the knowledge base). **You do not need to implement this part of the algorithm, you only need to implement the initial knowledge base.**\n",
    "\n",
    "Feel free to define in ``generate_knowledge.py`` any helper function you may need, but do not import any additional modules or packages, otherwise your solution will be marked as failed. This exercise is easily solvable without any additional packages."
   ]
  },
  {
   "cell_type": "markdown",
   "metadata": {},
   "source": [
    "# Running the Algorithm\n",
    "\n"
   ]
  },
  {
   "cell_type": "code",
   "execution_count": 3,
   "metadata": {},
   "outputs": [
    {
     "ename": "NameError",
     "evalue": "name 'maps' is not defined",
     "output_type": "error",
     "traceback": [
      "\u001b[0;31m---------------------------------------------------------------------------\u001b[0m",
      "\u001b[0;31mNameError\u001b[0m                                 Traceback (most recent call last)",
      "\u001b[0;32m<ipython-input-3-cea217048725>\u001b[0m in \u001b[0;36m<module>\u001b[0;34m\u001b[0m\n\u001b[1;32m      5\u001b[0m \u001b[0;31m# Select the initial chessboard by setting chessboard_index to a value between 1 and 8\u001b[0m\u001b[0;34m\u001b[0m\u001b[0;34m\u001b[0m\u001b[0;34m\u001b[0m\u001b[0m\n\u001b[1;32m      6\u001b[0m \u001b[0mchessboard_index\u001b[0m \u001b[0;34m=\u001b[0m \u001b[0;36m1\u001b[0m\u001b[0;34m\u001b[0m\u001b[0;34m\u001b[0m\u001b[0m\n\u001b[0;32m----> 7\u001b[0;31m \u001b[0mchessboard\u001b[0m \u001b[0;34m=\u001b[0m \u001b[0mgetattr\u001b[0m\u001b[0;34m(\u001b[0m\u001b[0mmaps\u001b[0m\u001b[0;34m,\u001b[0m \u001b[0;34m\"chessboard\"\u001b[0m\u001b[0;34m+\u001b[0m\u001b[0mstr\u001b[0m\u001b[0;34m(\u001b[0m\u001b[0mchessboard_index\u001b[0m\u001b[0;34m)\u001b[0m\u001b[0;34m)\u001b[0m\u001b[0;34m\u001b[0m\u001b[0;34m\u001b[0m\u001b[0m\n\u001b[0m\u001b[1;32m      8\u001b[0m \u001b[0;34m\u001b[0m\u001b[0m\n\u001b[1;32m      9\u001b[0m \u001b[0;32mfrom\u001b[0m \u001b[0mgenerate_knowledge\u001b[0m \u001b[0;32mimport\u001b[0m \u001b[0mgenerate_knowledge\u001b[0m\u001b[0;34m\u001b[0m\u001b[0;34m\u001b[0m\u001b[0m\n",
      "\u001b[0;31mNameError\u001b[0m: name 'maps' is not defined"
     ]
    }
   ],
   "source": [
    "# You can run this cell to test your implementation.\n",
    "# Be aware that on some systems, if you modified generate_knowledge.py,\n",
    "# you may need to restart the kernel of this notebook (click on the '>>' at the top)\n",
    "\n",
    "# Select the initial chessboard by setting chessboard_index to a value between 1 and 8\n",
    "chessboard_index = 1\n",
    "chessboard = getattr(maps, \"chessboard\"+str(chessboard_index))\n",
    "\n",
    "from generate_knowledge import generate_knowledge\n",
    "\n",
    "# Create an empty knowledge base, and fill it with your knowledge base\n",
    "kb = KB()\n",
    "kb_init = generate_knowledge(chessboard)\n",
    "\n",
    "print('Feeding the knowledge base with the expressions from generate_knowledge...')\n",
    "for expression in kb_init:\n",
    "    kb.tell(expr(expression))\n",
    "print('Done.')\n",
    "\n",
    "# Set up some helper variables\n",
    "free_space = True\n",
    "step = 1\n",
    "\n",
    "while free_space:\n",
    "    # While there still is some potential free space where one could place a queen...\n",
    "    \n",
    "    # Now, check for each empty whether it is in danger or not\n",
    "    print(\"Computing the new danger fields. Please be patient...\")\n",
    "    chessboard = ask_solution(chessboard, kb, n=len(chessboard))\n",
    "    print(\"Done.\")\n",
    "    \n",
    "    # Display the results\n",
    "    print(\"Results for step \"+str(step)+\":\")\n",
    "    step = step + 1\n",
    "    draw_chessboard(np.array(chessboard))\n",
    "    \n",
    "    if step > 10:\n",
    "        # If, in your solution, there are more than 10 queens to be added, you did a mistake somewhere.\n",
    "        # In this case, the algorithm abandons, to avoid infinite loops.\n",
    "        print(\"Failed to find a solution in finite time.\")\n",
    "        break\n",
    "    \n",
    "    # Now, select the uppermost, leftmost (in that order of priority) spot that\n",
    "    # is not in danger, and place a queen there\n",
    "    free_space = False\n",
    "    for y in range(len(chessboard)):\n",
    "        for x in range(len(chessboard)):\n",
    "            if chessboard[x][y] == 0:\n",
    "                chessboard[x][y] = 'Q'\n",
    "                \n",
    "                # If a queen was placed, add this to the knowledge base\n",
    "                sentence = Queen(x,y)\n",
    "                kb.tell(expr(sentence))\n",
    "       \n",
    "                free_space = True\n",
    "                    \n",
    "                break\n",
    "        \n",
    "        if free_space:\n",
    "            break\n",
    "    \n"
   ]
  },
  {
   "cell_type": "code",
   "execution_count": null,
   "metadata": {},
   "outputs": [],
   "source": []
  }
 ],
 "metadata": {
  "kernelspec": {
   "display_name": "Python 3",
   "language": "python",
   "name": "python3"
  },
  "language_info": {
   "codemirror_mode": {
    "name": "ipython",
    "version": 3
   },
   "file_extension": ".py",
   "mimetype": "text/x-python",
   "name": "python",
   "nbconvert_exporter": "python",
   "pygments_lexer": "ipython3",
   "version": "3.7.11"
  }
 },
 "nbformat": 4,
 "nbformat_minor": 2
}
